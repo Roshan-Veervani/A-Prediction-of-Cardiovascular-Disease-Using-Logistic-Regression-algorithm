{
 "cells": [
  {
   "cell_type": "markdown",
   "metadata": {
    "colab_type": "text",
    "id": "BDhwXq4xA_3i",
    "tags": []
   },
   "source": [
    "# **1. Getting the Dataset**"
   ]
  },
  {
   "cell_type": "code",
   "execution_count": 1,
   "metadata": {
    "colab": {
     "base_uri": "https://localhost:8080/",
     "height": 491
    },
    "colab_type": "code",
    "executionInfo": {
     "elapsed": 1372,
     "status": "ok",
     "timestamp": 1573719478409,
     "user": {
      "displayName": "Montu Saw",
      "photoUrl": "https://lh3.googleusercontent.com/a-/AAuE7mBRGBpww95BA8TSCucShu8nuVXOPOPqOy6-XE3K=s64",
      "userId": "04051579652075114519"
     },
     "user_tz": -330
    },
    "id": "l1ljZwkrZZr_",
    "outputId": "79066f82-abaa-4bb5-fcfa-b68ee86b2242"
   },
   "outputs": [
    {
     "data": {
      "text/html": [
       "<div>\n",
       "<style scoped>\n",
       "    .dataframe tbody tr th:only-of-type {\n",
       "        vertical-align: middle;\n",
       "    }\n",
       "\n",
       "    .dataframe tbody tr th {\n",
       "        vertical-align: top;\n",
       "    }\n",
       "\n",
       "    .dataframe thead th {\n",
       "        text-align: right;\n",
       "    }\n",
       "</style>\n",
       "<table border=\"1\" class=\"dataframe\">\n",
       "  <thead>\n",
       "    <tr style=\"text-align: right;\">\n",
       "      <th></th>\n",
       "      <th>male</th>\n",
       "      <th>age</th>\n",
       "      <th>education</th>\n",
       "      <th>currentSmoker</th>\n",
       "      <th>cigsPerDay</th>\n",
       "      <th>BPMeds</th>\n",
       "      <th>prevalentStroke</th>\n",
       "      <th>prevalentHyp</th>\n",
       "      <th>diabetes</th>\n",
       "      <th>totChol</th>\n",
       "      <th>sysBP</th>\n",
       "      <th>diaBP</th>\n",
       "      <th>BMI</th>\n",
       "      <th>heartRate</th>\n",
       "      <th>glucose</th>\n",
       "      <th>TenYearCHD</th>\n",
       "    </tr>\n",
       "  </thead>\n",
       "  <tbody>\n",
       "    <tr>\n",
       "      <th>0</th>\n",
       "      <td>1</td>\n",
       "      <td>39</td>\n",
       "      <td>4.0</td>\n",
       "      <td>0</td>\n",
       "      <td>0.0</td>\n",
       "      <td>0.0</td>\n",
       "      <td>0</td>\n",
       "      <td>0</td>\n",
       "      <td>0</td>\n",
       "      <td>195.0</td>\n",
       "      <td>106.0</td>\n",
       "      <td>70.0</td>\n",
       "      <td>26.97</td>\n",
       "      <td>80.0</td>\n",
       "      <td>77.0</td>\n",
       "      <td>0</td>\n",
       "    </tr>\n",
       "    <tr>\n",
       "      <th>1</th>\n",
       "      <td>0</td>\n",
       "      <td>46</td>\n",
       "      <td>2.0</td>\n",
       "      <td>0</td>\n",
       "      <td>0.0</td>\n",
       "      <td>0.0</td>\n",
       "      <td>0</td>\n",
       "      <td>0</td>\n",
       "      <td>0</td>\n",
       "      <td>250.0</td>\n",
       "      <td>121.0</td>\n",
       "      <td>81.0</td>\n",
       "      <td>28.73</td>\n",
       "      <td>95.0</td>\n",
       "      <td>76.0</td>\n",
       "      <td>0</td>\n",
       "    </tr>\n",
       "    <tr>\n",
       "      <th>2</th>\n",
       "      <td>1</td>\n",
       "      <td>48</td>\n",
       "      <td>1.0</td>\n",
       "      <td>1</td>\n",
       "      <td>20.0</td>\n",
       "      <td>0.0</td>\n",
       "      <td>0</td>\n",
       "      <td>0</td>\n",
       "      <td>0</td>\n",
       "      <td>245.0</td>\n",
       "      <td>127.5</td>\n",
       "      <td>80.0</td>\n",
       "      <td>25.34</td>\n",
       "      <td>75.0</td>\n",
       "      <td>70.0</td>\n",
       "      <td>0</td>\n",
       "    </tr>\n",
       "    <tr>\n",
       "      <th>3</th>\n",
       "      <td>0</td>\n",
       "      <td>61</td>\n",
       "      <td>3.0</td>\n",
       "      <td>1</td>\n",
       "      <td>30.0</td>\n",
       "      <td>0.0</td>\n",
       "      <td>0</td>\n",
       "      <td>1</td>\n",
       "      <td>0</td>\n",
       "      <td>225.0</td>\n",
       "      <td>150.0</td>\n",
       "      <td>95.0</td>\n",
       "      <td>28.58</td>\n",
       "      <td>65.0</td>\n",
       "      <td>103.0</td>\n",
       "      <td>1</td>\n",
       "    </tr>\n",
       "    <tr>\n",
       "      <th>4</th>\n",
       "      <td>0</td>\n",
       "      <td>46</td>\n",
       "      <td>3.0</td>\n",
       "      <td>1</td>\n",
       "      <td>23.0</td>\n",
       "      <td>0.0</td>\n",
       "      <td>0</td>\n",
       "      <td>0</td>\n",
       "      <td>0</td>\n",
       "      <td>285.0</td>\n",
       "      <td>130.0</td>\n",
       "      <td>84.0</td>\n",
       "      <td>23.10</td>\n",
       "      <td>85.0</td>\n",
       "      <td>85.0</td>\n",
       "      <td>0</td>\n",
       "    </tr>\n",
       "    <tr>\n",
       "      <th>5</th>\n",
       "      <td>0</td>\n",
       "      <td>43</td>\n",
       "      <td>2.0</td>\n",
       "      <td>0</td>\n",
       "      <td>0.0</td>\n",
       "      <td>0.0</td>\n",
       "      <td>0</td>\n",
       "      <td>1</td>\n",
       "      <td>0</td>\n",
       "      <td>228.0</td>\n",
       "      <td>180.0</td>\n",
       "      <td>110.0</td>\n",
       "      <td>30.30</td>\n",
       "      <td>77.0</td>\n",
       "      <td>99.0</td>\n",
       "      <td>0</td>\n",
       "    </tr>\n",
       "    <tr>\n",
       "      <th>6</th>\n",
       "      <td>0</td>\n",
       "      <td>63</td>\n",
       "      <td>1.0</td>\n",
       "      <td>0</td>\n",
       "      <td>0.0</td>\n",
       "      <td>0.0</td>\n",
       "      <td>0</td>\n",
       "      <td>0</td>\n",
       "      <td>0</td>\n",
       "      <td>205.0</td>\n",
       "      <td>138.0</td>\n",
       "      <td>71.0</td>\n",
       "      <td>33.11</td>\n",
       "      <td>60.0</td>\n",
       "      <td>85.0</td>\n",
       "      <td>1</td>\n",
       "    </tr>\n",
       "    <tr>\n",
       "      <th>7</th>\n",
       "      <td>0</td>\n",
       "      <td>45</td>\n",
       "      <td>2.0</td>\n",
       "      <td>1</td>\n",
       "      <td>20.0</td>\n",
       "      <td>0.0</td>\n",
       "      <td>0</td>\n",
       "      <td>0</td>\n",
       "      <td>0</td>\n",
       "      <td>313.0</td>\n",
       "      <td>100.0</td>\n",
       "      <td>71.0</td>\n",
       "      <td>21.68</td>\n",
       "      <td>79.0</td>\n",
       "      <td>78.0</td>\n",
       "      <td>0</td>\n",
       "    </tr>\n",
       "    <tr>\n",
       "      <th>8</th>\n",
       "      <td>1</td>\n",
       "      <td>52</td>\n",
       "      <td>1.0</td>\n",
       "      <td>0</td>\n",
       "      <td>0.0</td>\n",
       "      <td>0.0</td>\n",
       "      <td>0</td>\n",
       "      <td>1</td>\n",
       "      <td>0</td>\n",
       "      <td>260.0</td>\n",
       "      <td>141.5</td>\n",
       "      <td>89.0</td>\n",
       "      <td>26.36</td>\n",
       "      <td>76.0</td>\n",
       "      <td>79.0</td>\n",
       "      <td>0</td>\n",
       "    </tr>\n",
       "    <tr>\n",
       "      <th>9</th>\n",
       "      <td>1</td>\n",
       "      <td>43</td>\n",
       "      <td>1.0</td>\n",
       "      <td>1</td>\n",
       "      <td>30.0</td>\n",
       "      <td>0.0</td>\n",
       "      <td>0</td>\n",
       "      <td>1</td>\n",
       "      <td>0</td>\n",
       "      <td>225.0</td>\n",
       "      <td>162.0</td>\n",
       "      <td>107.0</td>\n",
       "      <td>23.61</td>\n",
       "      <td>93.0</td>\n",
       "      <td>88.0</td>\n",
       "      <td>0</td>\n",
       "    </tr>\n",
       "    <tr>\n",
       "      <th>10</th>\n",
       "      <td>0</td>\n",
       "      <td>50</td>\n",
       "      <td>1.0</td>\n",
       "      <td>0</td>\n",
       "      <td>0.0</td>\n",
       "      <td>0.0</td>\n",
       "      <td>0</td>\n",
       "      <td>0</td>\n",
       "      <td>0</td>\n",
       "      <td>254.0</td>\n",
       "      <td>133.0</td>\n",
       "      <td>76.0</td>\n",
       "      <td>22.91</td>\n",
       "      <td>75.0</td>\n",
       "      <td>76.0</td>\n",
       "      <td>0</td>\n",
       "    </tr>\n",
       "    <tr>\n",
       "      <th>11</th>\n",
       "      <td>0</td>\n",
       "      <td>43</td>\n",
       "      <td>2.0</td>\n",
       "      <td>0</td>\n",
       "      <td>0.0</td>\n",
       "      <td>0.0</td>\n",
       "      <td>0</td>\n",
       "      <td>0</td>\n",
       "      <td>0</td>\n",
       "      <td>247.0</td>\n",
       "      <td>131.0</td>\n",
       "      <td>88.0</td>\n",
       "      <td>27.64</td>\n",
       "      <td>72.0</td>\n",
       "      <td>61.0</td>\n",
       "      <td>0</td>\n",
       "    </tr>\n",
       "    <tr>\n",
       "      <th>12</th>\n",
       "      <td>1</td>\n",
       "      <td>46</td>\n",
       "      <td>1.0</td>\n",
       "      <td>1</td>\n",
       "      <td>15.0</td>\n",
       "      <td>0.0</td>\n",
       "      <td>0</td>\n",
       "      <td>1</td>\n",
       "      <td>0</td>\n",
       "      <td>294.0</td>\n",
       "      <td>142.0</td>\n",
       "      <td>94.0</td>\n",
       "      <td>26.31</td>\n",
       "      <td>98.0</td>\n",
       "      <td>64.0</td>\n",
       "      <td>0</td>\n",
       "    </tr>\n",
       "    <tr>\n",
       "      <th>13</th>\n",
       "      <td>0</td>\n",
       "      <td>41</td>\n",
       "      <td>3.0</td>\n",
       "      <td>0</td>\n",
       "      <td>0.0</td>\n",
       "      <td>1.0</td>\n",
       "      <td>0</td>\n",
       "      <td>1</td>\n",
       "      <td>0</td>\n",
       "      <td>332.0</td>\n",
       "      <td>124.0</td>\n",
       "      <td>88.0</td>\n",
       "      <td>31.31</td>\n",
       "      <td>65.0</td>\n",
       "      <td>84.0</td>\n",
       "      <td>0</td>\n",
       "    </tr>\n",
       "    <tr>\n",
       "      <th>14</th>\n",
       "      <td>0</td>\n",
       "      <td>39</td>\n",
       "      <td>2.0</td>\n",
       "      <td>1</td>\n",
       "      <td>9.0</td>\n",
       "      <td>0.0</td>\n",
       "      <td>0</td>\n",
       "      <td>0</td>\n",
       "      <td>0</td>\n",
       "      <td>226.0</td>\n",
       "      <td>114.0</td>\n",
       "      <td>64.0</td>\n",
       "      <td>22.35</td>\n",
       "      <td>85.0</td>\n",
       "      <td>NaN</td>\n",
       "      <td>0</td>\n",
       "    </tr>\n",
       "  </tbody>\n",
       "</table>\n",
       "</div>"
      ],
      "text/plain": [
       "    male  age  education  currentSmoker  cigsPerDay  BPMeds  prevalentStroke  \\\n",
       "0      1   39        4.0              0         0.0     0.0                0   \n",
       "1      0   46        2.0              0         0.0     0.0                0   \n",
       "2      1   48        1.0              1        20.0     0.0                0   \n",
       "3      0   61        3.0              1        30.0     0.0                0   \n",
       "4      0   46        3.0              1        23.0     0.0                0   \n",
       "5      0   43        2.0              0         0.0     0.0                0   \n",
       "6      0   63        1.0              0         0.0     0.0                0   \n",
       "7      0   45        2.0              1        20.0     0.0                0   \n",
       "8      1   52        1.0              0         0.0     0.0                0   \n",
       "9      1   43        1.0              1        30.0     0.0                0   \n",
       "10     0   50        1.0              0         0.0     0.0                0   \n",
       "11     0   43        2.0              0         0.0     0.0                0   \n",
       "12     1   46        1.0              1        15.0     0.0                0   \n",
       "13     0   41        3.0              0         0.0     1.0                0   \n",
       "14     0   39        2.0              1         9.0     0.0                0   \n",
       "\n",
       "    prevalentHyp  diabetes  totChol  sysBP  diaBP    BMI  heartRate  glucose  \\\n",
       "0              0         0    195.0  106.0   70.0  26.97       80.0     77.0   \n",
       "1              0         0    250.0  121.0   81.0  28.73       95.0     76.0   \n",
       "2              0         0    245.0  127.5   80.0  25.34       75.0     70.0   \n",
       "3              1         0    225.0  150.0   95.0  28.58       65.0    103.0   \n",
       "4              0         0    285.0  130.0   84.0  23.10       85.0     85.0   \n",
       "5              1         0    228.0  180.0  110.0  30.30       77.0     99.0   \n",
       "6              0         0    205.0  138.0   71.0  33.11       60.0     85.0   \n",
       "7              0         0    313.0  100.0   71.0  21.68       79.0     78.0   \n",
       "8              1         0    260.0  141.5   89.0  26.36       76.0     79.0   \n",
       "9              1         0    225.0  162.0  107.0  23.61       93.0     88.0   \n",
       "10             0         0    254.0  133.0   76.0  22.91       75.0     76.0   \n",
       "11             0         0    247.0  131.0   88.0  27.64       72.0     61.0   \n",
       "12             1         0    294.0  142.0   94.0  26.31       98.0     64.0   \n",
       "13             1         0    332.0  124.0   88.0  31.31       65.0     84.0   \n",
       "14             0         0    226.0  114.0   64.0  22.35       85.0      NaN   \n",
       "\n",
       "    TenYearCHD  \n",
       "0            0  \n",
       "1            0  \n",
       "2            0  \n",
       "3            1  \n",
       "4            0  \n",
       "5            0  \n",
       "6            1  \n",
       "7            0  \n",
       "8            0  \n",
       "9            0  \n",
       "10           0  \n",
       "11           0  \n",
       "12           0  \n",
       "13           0  \n",
       "14           0  "
      ]
     },
     "execution_count": 1,
     "metadata": {},
     "output_type": "execute_result"
    }
   ],
   "source": [
    "import numpy as np\n",
    "import pandas as pd\n",
    "import seaborn as sns\n",
    "import matplotlib.pyplot as plt\n",
    "import math\n",
    "heart_data= pd.read_csv(\"\\\\Users\\\\rosha\\\\Desktop\\\\P1\\\\framingham.csv\")\n",
    "heart_data.head(15)\n"
   ]
  },
  {
   "cell_type": "markdown",
   "metadata": {
    "colab_type": "text",
    "id": "6KHC_UiLBVMq"
   },
   "source": [
    "# **2. Plotting the Graphs**"
   ]
  },
  {
   "cell_type": "code",
   "execution_count": 2,
   "metadata": {
    "colab": {
     "base_uri": "https://localhost:8080/",
     "height": 296
    },
    "colab_type": "code",
    "executionInfo": {
     "elapsed": 2197,
     "status": "ok",
     "timestamp": 1573719479245,
     "user": {
      "displayName": "Montu Saw",
      "photoUrl": "https://lh3.googleusercontent.com/a-/AAuE7mBRGBpww95BA8TSCucShu8nuVXOPOPqOy6-XE3K=s64",
      "userId": "04051579652075114519"
     },
     "user_tz": -330
    },
    "id": "o9OWKQe7k6T6",
    "outputId": "d81d0d85-1158-4f32-9147-dde6b0ccc5a8"
   },
   "outputs": [
    {
     "data": {
      "text/plain": [
       "<AxesSubplot:xlabel='prevalentStroke', ylabel='count'>"
      ]
     },
     "execution_count": 2,
     "metadata": {},
     "output_type": "execute_result"
    },
    {
     "data": {
      "image/png": "[encoded data removed]",
      "text/plain": [
       "<Figure size 432x288 with 1 Axes>"
      ]
     },
     "metadata": {
      "needs_background": "light"
     },
     "output_type": "display_data"
    }
   ],
   "source": [
    "sns.countplot(x=\"prevalentStroke\", data=heart_data)"
   ]
  },
  {
   "cell_type": "code",
   "execution_count": 3,
   "metadata": {
    "colab": {
     "base_uri": "https://localhost:8080/",
     "height": 296
    },
    "colab_type": "code",
    "executionInfo": {
     "elapsed": 2187,
     "status": "ok",
     "timestamp": 1573719479246,
     "user": {
      "displayName": "Montu Saw",
      "photoUrl": "https://lh3.googleusercontent.com/a-/AAuE7mBRGBpww95BA8TSCucShu8nuVXOPOPqOy6-XE3K=s64",
      "userId": "04051579652075114519"
     },
     "user_tz": -330
    },
    "id": "Nqq31wTumdAw",
    "outputId": "772773aa-e806-43b1-81aa-f13f130a5965"
   },
   "outputs": [
    {
     "data": {
      "text/plain": [
       "<AxesSubplot:xlabel='prevalentHyp', ylabel='count'>"
      ]
     },
     "execution_count": 3,
     "metadata": {},
     "output_type": "execute_result"
    },
    {
     "data": {
      "image/png": "[encoded data removed]",
      "text/plain": [
       "<Figure size 432x288 with 1 Axes>"
      ]
     },
     "metadata": {
      "needs_background": "light"
     },
     "output_type": "display_data"
    }
   ],
   "source": [
    "sns.countplot(x=\"prevalentHyp\", data=heart_data)"
   ]
  },
  {
   "cell_type": "code",
   "execution_count": 4,
   "metadata": {
    "colab": {
     "base_uri": "https://localhost:8080/",
     "height": 282
    },
    "colab_type": "code",
    "executionInfo": {
     "elapsed": 3204,
     "status": "ok",
     "timestamp": 1573719480278,
     "user": {
      "displayName": "Montu Saw",
      "photoUrl": "https://lh3.googleusercontent.com/a-/AAuE7mBRGBpww95BA8TSCucShu8nuVXOPOPqOy6-XE3K=s64",
      "userId": "04051579652075114519"
     },
     "user_tz": -330
    },
    "id": "_4LfZBLczKAP",
    "outputId": "41bc8604-68b5-4dc7-e7ca-fe857669fd3b"
   },
   "outputs": [
    {
     "data": {
      "text/plain": [
       "<AxesSubplot:ylabel='Frequency'>"
      ]
     },
     "execution_count": 4,
     "metadata": {},
     "output_type": "execute_result"
    },
    {
     "data": {
      "image/png": "[encoded data removed]",
      "text/plain": [
       "<Figure size 432x288 with 1 Axes>"
      ]
     },
     "metadata": {
      "needs_background": "light"
     },
     "output_type": "display_data"
    }
   ],
   "source": [
    "heart_data[\"age\"].plot.hist()"
   ]
  },
  {
   "cell_type": "code",
   "execution_count": 5,
   "metadata": {
    "colab": {
     "base_uri": "https://localhost:8080/",
     "height": 282
    },
    "colab_type": "code",
    "executionInfo": {
     "elapsed": 3195,
     "status": "ok",
     "timestamp": 1573719480279,
     "user": {
      "displayName": "Montu Saw",
      "photoUrl": "https://lh3.googleusercontent.com/a-/AAuE7mBRGBpww95BA8TSCucShu8nuVXOPOPqOy6-XE3K=s64",
      "userId": "04051579652075114519"
     },
     "user_tz": -330
    },
    "id": "D-iy04uJ3RGZ",
    "outputId": "8cd97767-2c7b-42ad-870a-5214abcd366e"
   },
   "outputs": [
    {
     "data": {
      "text/plain": [
       "<AxesSubplot:ylabel='Frequency'>"
      ]
     },
     "execution_count": 5,
     "metadata": {},
     "output_type": "execute_result"
    },
    {
     "data": {
      "image/png": "[encoded data removed]",
      "text/plain": [
       "<Figure size 432x288 with 1 Axes>"
      ]
     },
     "metadata": {
      "needs_background": "light"
     },
     "output_type": "display_data"
    }
   ],
   "source": [
    "heart_data[\"cigsPerDay\"].plot.hist()"
   ]
  },
  {
   "cell_type": "code",
   "execution_count": 6,
   "metadata": {
    "colab": {
     "base_uri": "https://localhost:8080/",
     "height": 282
    },
    "colab_type": "code",
    "executionInfo": {
     "elapsed": 3186,
     "status": "ok",
     "timestamp": 1573719480280,
     "user": {
      "displayName": "Montu Saw",
      "photoUrl": "https://lh3.googleusercontent.com/a-/AAuE7mBRGBpww95BA8TSCucShu8nuVXOPOPqOy6-XE3K=s64",
      "userId": "04051579652075114519"
     },
     "user_tz": -330
    },
    "id": "8Tsr-prz2o1a",
    "outputId": "450db573-ffdc-474e-c32e-aaa6839b8204"
   },
   "outputs": [
    {
     "data": {
      "text/plain": [
       "<AxesSubplot:ylabel='Frequency'>"
      ]
     },
     "execution_count": 6,
     "metadata": {},
     "output_type": "execute_result"
    },
    {
     "data": {
      "image/png": "[encoded data removed]",
      "text/plain": [
       "<Figure size 432x288 with 1 Axes>"
      ]
     },
     "metadata": {
      "needs_background": "light"
     },
     "output_type": "display_data"
    }
   ],
   "source": [
    "heart_data[\"glucose\"].plot.hist()"
   ]
  },
  {
   "cell_type": "code",
   "execution_count": 7,
   "metadata": {
    "colab": {
     "base_uri": "https://localhost:8080/",
     "height": 296
    },
    "colab_type": "code",
    "executionInfo": {
     "elapsed": 4034,
     "status": "ok",
     "timestamp": 1573719481138,
     "user": {
      "displayName": "Montu Saw",
      "photoUrl": "https://lh3.googleusercontent.com/a-/AAuE7mBRGBpww95BA8TSCucShu8nuVXOPOPqOy6-XE3K=s64",
      "userId": "04051579652075114519"
     },
     "user_tz": -330
    },
    "id": "GFQl8Br-nRyM",
    "outputId": "fd6736ae-bb3d-487a-c124-85901994711b"
   },
   "outputs": [
    {
     "data": {
      "text/plain": [
       "<AxesSubplot:xlabel='TenYearCHD', ylabel='count'>"
      ]
     },
     "execution_count": 7,
     "metadata": {},
     "output_type": "execute_result"
    },
    {
     "data": {
      "image/png": "[encoded data removed]",
      "text/plain": [
       "<Figure size 432x288 with 1 Axes>"
      ]
     },
     "metadata": {
      "needs_background": "light"
     },
     "output_type": "display_data"
    }
   ],
   "source": [
    "sns.countplot(x=\"TenYearCHD\", data=heart_data)"
   ]
  },
  {
   "cell_type": "markdown",
   "metadata": {
    "colab_type": "text",
    "id": "JPC8_IG3BtBy"
   },
   "source": [
    "# **3. Finding the Null values**"
   ]
  },
  {
   "cell_type": "code",
   "execution_count": 8,
   "metadata": {
    "colab": {
     "base_uri": "https://localhost:8080/",
     "height": 402
    },
    "colab_type": "code",
    "executionInfo": {
     "elapsed": 4030,
     "status": "ok",
     "timestamp": 1573719481142,
     "user": {
      "displayName": "Montu Saw",
      "photoUrl": "https://lh3.googleusercontent.com/a-/AAuE7mBRGBpww95BA8TSCucShu8nuVXOPOPqOy6-XE3K=s64",
      "userId": "04051579652075114519"
     },
     "user_tz": -330
    },
    "id": "NxYqXYWxff2X",
    "outputId": "ec36fc00-9f90-452a-b9f8-828d5f68e39c"
   },
   "outputs": [
    {
     "data": {
      "text/html": [
       "<div>\n",
       "<style scoped>\n",
       "    .dataframe tbody tr th:only-of-type {\n",
       "        vertical-align: middle;\n",
       "    }\n",
       "\n",
       "    .dataframe tbody tr th {\n",
       "        vertical-align: top;\n",
       "    }\n",
       "\n",
       "    .dataframe thead th {\n",
       "        text-align: right;\n",
       "    }\n",
       "</style>\n",
       "<table border=\"1\" class=\"dataframe\">\n",
       "  <thead>\n",
       "    <tr style=\"text-align: right;\">\n",
       "      <th></th>\n",
       "      <th>male</th>\n",
       "      <th>age</th>\n",
       "      <th>education</th>\n",
       "      <th>currentSmoker</th>\n",
       "      <th>cigsPerDay</th>\n",
       "      <th>BPMeds</th>\n",
       "      <th>prevalentStroke</th>\n",
       "      <th>prevalentHyp</th>\n",
       "      <th>diabetes</th>\n",
       "      <th>totChol</th>\n",
       "      <th>sysBP</th>\n",
       "      <th>diaBP</th>\n",
       "      <th>BMI</th>\n",
       "      <th>heartRate</th>\n",
       "      <th>glucose</th>\n",
       "      <th>TenYearCHD</th>\n",
       "    </tr>\n",
       "  </thead>\n",
       "  <tbody>\n",
       "    <tr>\n",
       "      <th>0</th>\n",
       "      <td>False</td>\n",
       "      <td>False</td>\n",
       "      <td>False</td>\n",
       "      <td>False</td>\n",
       "      <td>False</td>\n",
       "      <td>False</td>\n",
       "      <td>False</td>\n",
       "      <td>False</td>\n",
       "      <td>False</td>\n",
       "      <td>False</td>\n",
       "      <td>False</td>\n",
       "      <td>False</td>\n",
       "      <td>False</td>\n",
       "      <td>False</td>\n",
       "      <td>False</td>\n",
       "      <td>False</td>\n",
       "    </tr>\n",
       "    <tr>\n",
       "      <th>1</th>\n",
       "      <td>False</td>\n",
       "      <td>False</td>\n",
       "      <td>False</td>\n",
       "      <td>False</td>\n",
       "      <td>False</td>\n",
       "      <td>False</td>\n",
       "      <td>False</td>\n",
       "      <td>False</td>\n",
       "      <td>False</td>\n",
       "      <td>False</td>\n",
       "      <td>False</td>\n",
       "      <td>False</td>\n",
       "      <td>False</td>\n",
       "      <td>False</td>\n",
       "      <td>False</td>\n",
       "      <td>False</td>\n",
       "    </tr>\n",
       "    <tr>\n",
       "      <th>2</th>\n",
       "      <td>False</td>\n",
       "      <td>False</td>\n",
       "      <td>False</td>\n",
       "      <td>False</td>\n",
       "      <td>False</td>\n",
       "      <td>False</td>\n",
       "      <td>False</td>\n",
       "      <td>False</td>\n",
       "      <td>False</td>\n",
       "      <td>False</td>\n",
       "      <td>False</td>\n",
       "      <td>False</td>\n",
       "      <td>False</td>\n",
       "      <td>False</td>\n",
       "      <td>False</td>\n",
       "      <td>False</td>\n",
       "    </tr>\n",
       "    <tr>\n",
       "      <th>3</th>\n",
       "      <td>False</td>\n",
       "      <td>False</td>\n",
       "      <td>False</td>\n",
       "      <td>False</td>\n",
       "      <td>False</td>\n",
       "      <td>False</td>\n",
       "      <td>False</td>\n",
       "      <td>False</td>\n",
       "      <td>False</td>\n",
       "      <td>False</td>\n",
       "      <td>False</td>\n",
       "      <td>False</td>\n",
       "      <td>False</td>\n",
       "      <td>False</td>\n",
       "      <td>False</td>\n",
       "      <td>False</td>\n",
       "    </tr>\n",
       "    <tr>\n",
       "      <th>4</th>\n",
       "      <td>False</td>\n",
       "      <td>False</td>\n",
       "      <td>False</td>\n",
       "      <td>False</td>\n",
       "      <td>False</td>\n",
       "      <td>False</td>\n",
       "      <td>False</td>\n",
       "      <td>False</td>\n",
       "      <td>False</td>\n",
       "      <td>False</td>\n",
       "      <td>False</td>\n",
       "      <td>False</td>\n",
       "      <td>False</td>\n",
       "      <td>False</td>\n",
       "      <td>False</td>\n",
       "      <td>False</td>\n",
       "    </tr>\n",
       "    <tr>\n",
       "      <th>...</th>\n",
       "      <td>...</td>\n",
       "      <td>...</td>\n",
       "      <td>...</td>\n",
       "      <td>...</td>\n",
       "      <td>...</td>\n",
       "      <td>...</td>\n",
       "      <td>...</td>\n",
       "      <td>...</td>\n",
       "      <td>...</td>\n",
       "      <td>...</td>\n",
       "      <td>...</td>\n",
       "      <td>...</td>\n",
       "      <td>...</td>\n",
       "      <td>...</td>\n",
       "      <td>...</td>\n",
       "      <td>...</td>\n",
       "    </tr>\n",
       "    <tr>\n",
       "      <th>4233</th>\n",
       "      <td>False</td>\n",
       "      <td>False</td>\n",
       "      <td>False</td>\n",
       "      <td>False</td>\n",
       "      <td>False</td>\n",
       "      <td>False</td>\n",
       "      <td>False</td>\n",
       "      <td>False</td>\n",
       "      <td>False</td>\n",
       "      <td>False</td>\n",
       "      <td>False</td>\n",
       "      <td>False</td>\n",
       "      <td>False</td>\n",
       "      <td>False</td>\n",
       "      <td>False</td>\n",
       "      <td>False</td>\n",
       "    </tr>\n",
       "    <tr>\n",
       "      <th>4234</th>\n",
       "      <td>False</td>\n",
       "      <td>False</td>\n",
       "      <td>False</td>\n",
       "      <td>False</td>\n",
       "      <td>False</td>\n",
       "      <td>False</td>\n",
       "      <td>False</td>\n",
       "      <td>False</td>\n",
       "      <td>False</td>\n",
       "      <td>False</td>\n",
       "      <td>False</td>\n",
       "      <td>False</td>\n",
       "      <td>False</td>\n",
       "      <td>False</td>\n",
       "      <td>False</td>\n",
       "      <td>False</td>\n",
       "    </tr>\n",
       "    <tr>\n",
       "      <th>4235</th>\n",
       "      <td>False</td>\n",
       "      <td>False</td>\n",
       "      <td>False</td>\n",
       "      <td>False</td>\n",
       "      <td>False</td>\n",
       "      <td>True</td>\n",
       "      <td>False</td>\n",
       "      <td>False</td>\n",
       "      <td>False</td>\n",
       "      <td>False</td>\n",
       "      <td>False</td>\n",
       "      <td>False</td>\n",
       "      <td>False</td>\n",
       "      <td>False</td>\n",
       "      <td>False</td>\n",
       "      <td>False</td>\n",
       "    </tr>\n",
       "    <tr>\n",
       "      <th>4236</th>\n",
       "      <td>False</td>\n",
       "      <td>False</td>\n",
       "      <td>False</td>\n",
       "      <td>False</td>\n",
       "      <td>False</td>\n",
       "      <td>False</td>\n",
       "      <td>False</td>\n",
       "      <td>False</td>\n",
       "      <td>False</td>\n",
       "      <td>False</td>\n",
       "      <td>False</td>\n",
       "      <td>False</td>\n",
       "      <td>False</td>\n",
       "      <td>False</td>\n",
       "      <td>True</td>\n",
       "      <td>False</td>\n",
       "    </tr>\n",
       "    <tr>\n",
       "      <th>4237</th>\n",
       "      <td>False</td>\n",
       "      <td>False</td>\n",
       "      <td>False</td>\n",
       "      <td>False</td>\n",
       "      <td>False</td>\n",
       "      <td>False</td>\n",
       "      <td>False</td>\n",
       "      <td>False</td>\n",
       "      <td>False</td>\n",
       "      <td>False</td>\n",
       "      <td>False</td>\n",
       "      <td>False</td>\n",
       "      <td>False</td>\n",
       "      <td>False</td>\n",
       "      <td>False</td>\n",
       "      <td>False</td>\n",
       "    </tr>\n",
       "  </tbody>\n",
       "</table>\n",
       "<p>4238 rows × 16 columns</p>\n",
       "</div>"
      ],
      "text/plain": [
       "       male    age  education  currentSmoker  cigsPerDay  BPMeds  \\\n",
       "0     False  False      False          False       False   False   \n",
       "1     False  False      False          False       False   False   \n",
       "2     False  False      False          False       False   False   \n",
       "3     False  False      False          False       False   False   \n",
       "4     False  False      False          False       False   False   \n",
       "...     ...    ...        ...            ...         ...     ...   \n",
       "4233  False  False      False          False       False   False   \n",
       "4234  False  False      False          False       False   False   \n",
       "4235  False  False      False          False       False    True   \n",
       "4236  False  False      False          False       False   False   \n",
       "4237  False  False      False          False       False   False   \n",
       "\n",
       "      prevalentStroke  prevalentHyp  diabetes  totChol  sysBP  diaBP    BMI  \\\n",
       "0               False         False     False    False  False  False  False   \n",
       "1               False         False     False    False  False  False  False   \n",
       "2               False         False     False    False  False  False  False   \n",
       "3               False         False     False    False  False  False  False   \n",
       "4               False         False     False    False  False  False  False   \n",
       "...               ...           ...       ...      ...    ...    ...    ...   \n",
       "4233            False         False     False    False  False  False  False   \n",
       "4234            False         False     False    False  False  False  False   \n",
       "4235            False         False     False    False  False  False  False   \n",
       "4236            False         False     False    False  False  False  False   \n",
       "4237            False         False     False    False  False  False  False   \n",
       "\n",
       "      heartRate  glucose  TenYearCHD  \n",
       "0         False    False       False  \n",
       "1         False    False       False  \n",
       "2         False    False       False  \n",
       "3         False    False       False  \n",
       "4         False    False       False  \n",
       "...         ...      ...         ...  \n",
       "4233      False    False       False  \n",
       "4234      False    False       False  \n",
       "4235      False    False       False  \n",
       "4236      False     True       False  \n",
       "4237      False    False       False  \n",
       "\n",
       "[4238 rows x 16 columns]"
      ]
     },
     "execution_count": 8,
     "metadata": {},
     "output_type": "execute_result"
    }
   ],
   "source": [
    "heart_data.isnull()"
   ]
  },
  {
   "cell_type": "code",
   "execution_count": 9,
   "metadata": {
    "colab": {
     "base_uri": "https://localhost:8080/",
     "height": 302
    },
    "colab_type": "code",
    "executionInfo": {
     "elapsed": 4030,
     "status": "ok",
     "timestamp": 1573719481149,
     "user": {
      "displayName": "Montu Saw",
      "photoUrl": "https://lh3.googleusercontent.com/a-/AAuE7mBRGBpww95BA8TSCucShu8nuVXOPOPqOy6-XE3K=s64",
      "userId": "04051579652075114519"
     },
     "user_tz": -330
    },
    "id": "5pJtumqWfmRt",
    "outputId": "830da84a-1867-4fe0-bd25-daf7c2336c5e"
   },
   "outputs": [
    {
     "data": {
      "text/plain": [
       "male                 0\n",
       "age                  0\n",
       "education          105\n",
       "currentSmoker        0\n",
       "cigsPerDay          29\n",
       "BPMeds              53\n",
       "prevalentStroke      0\n",
       "prevalentHyp         0\n",
       "diabetes             0\n",
       "totChol             50\n",
       "sysBP                0\n",
       "diaBP                0\n",
       "BMI                 19\n",
       "heartRate            1\n",
       "glucose            388\n",
       "TenYearCHD           0\n",
       "dtype: int64"
      ]
     },
     "execution_count": 9,
     "metadata": {},
     "output_type": "execute_result"
    }
   ],
   "source": [
    "heart_data.isnull().sum()"
   ]
  },
  {
   "cell_type": "markdown",
   "metadata": {
    "colab_type": "text",
    "id": "usZQOOoJB7bb"
   },
   "source": [
    "# **4. Plot the Heatmap**"
   ]
  },
  {
   "cell_type": "code",
   "execution_count": 10,
   "metadata": {
    "colab": {
     "base_uri": "https://localhost:8080/",
     "height": 356
    },
    "colab_type": "code",
    "executionInfo": {
     "elapsed": 4022,
     "status": "ok",
     "timestamp": 1573719481150,
     "user": {
      "displayName": "Montu Saw",
      "photoUrl": "https://lh3.googleusercontent.com/a-/AAuE7mBRGBpww95BA8TSCucShu8nuVXOPOPqOy6-XE3K=s64",
      "userId": "04051579652075114519"
     },
     "user_tz": -330
    },
    "id": "whnQuS-hiN7a",
    "outputId": "c72e54f3-c407-4c26-c9a7-0079762d97c4"
   },
   "outputs": [
    {
     "data": {
      "text/plain": [
       "<AxesSubplot:>"
      ]
     },
     "execution_count": 10,
     "metadata": {},
     "output_type": "execute_result"
    },
    {
     "data": {
      "image/png": "[encoded data removed]",
      "text/plain": [
       "<Figure size 432x288 with 2 Axes>"
      ]
     },
     "metadata": {
      "needs_background": "light"
     },
     "output_type": "display_data"
    }
   ],
   "source": [
    "sns.heatmap(heart_data.isnull(), yticklabels=False, cmap=\"viridis\")"
   ]
  },
  {
   "cell_type": "markdown",
   "metadata": {
    "colab_type": "text",
    "id": "cePZ8_u6CHWT"
   },
   "source": [
    "# **5. Droping the values**"
   ]
  },
  {
   "cell_type": "code",
   "execution_count": 11,
   "metadata": {
    "colab": {
     "base_uri": "https://localhost:8080/",
     "height": 195
    },
    "colab_type": "code",
    "executionInfo": {
     "elapsed": 4014,
     "status": "ok",
     "timestamp": 1573719481151,
     "user": {
      "displayName": "Montu Saw",
      "photoUrl": "https://lh3.googleusercontent.com/a-/AAuE7mBRGBpww95BA8TSCucShu8nuVXOPOPqOy6-XE3K=s64",
      "userId": "04051579652075114519"
     },
     "user_tz": -330
    },
    "id": "oHsS81oOtLM7",
    "outputId": "592e2355-aadf-430e-b811-068905e14856"
   },
   "outputs": [
    {
     "data": {
      "text/html": [
       "<div>\n",
       "<style scoped>\n",
       "    .dataframe tbody tr th:only-of-type {\n",
       "        vertical-align: middle;\n",
       "    }\n",
       "\n",
       "    .dataframe tbody tr th {\n",
       "        vertical-align: top;\n",
       "    }\n",
       "\n",
       "    .dataframe thead th {\n",
       "        text-align: right;\n",
       "    }\n",
       "</style>\n",
       "<table border=\"1\" class=\"dataframe\">\n",
       "  <thead>\n",
       "    <tr style=\"text-align: right;\">\n",
       "      <th></th>\n",
       "      <th>male</th>\n",
       "      <th>age</th>\n",
       "      <th>currentSmoker</th>\n",
       "      <th>cigsPerDay</th>\n",
       "      <th>BPMeds</th>\n",
       "      <th>prevalentStroke</th>\n",
       "      <th>prevalentHyp</th>\n",
       "      <th>diabetes</th>\n",
       "      <th>totChol</th>\n",
       "      <th>sysBP</th>\n",
       "      <th>diaBP</th>\n",
       "      <th>BMI</th>\n",
       "      <th>heartRate</th>\n",
       "      <th>glucose</th>\n",
       "      <th>TenYearCHD</th>\n",
       "    </tr>\n",
       "  </thead>\n",
       "  <tbody>\n",
       "    <tr>\n",
       "      <th>0</th>\n",
       "      <td>1</td>\n",
       "      <td>39</td>\n",
       "      <td>0</td>\n",
       "      <td>0.0</td>\n",
       "      <td>0.0</td>\n",
       "      <td>0</td>\n",
       "      <td>0</td>\n",
       "      <td>0</td>\n",
       "      <td>195.0</td>\n",
       "      <td>106.0</td>\n",
       "      <td>70.0</td>\n",
       "      <td>26.97</td>\n",
       "      <td>80.0</td>\n",
       "      <td>77.0</td>\n",
       "      <td>0</td>\n",
       "    </tr>\n",
       "    <tr>\n",
       "      <th>1</th>\n",
       "      <td>0</td>\n",
       "      <td>46</td>\n",
       "      <td>0</td>\n",
       "      <td>0.0</td>\n",
       "      <td>0.0</td>\n",
       "      <td>0</td>\n",
       "      <td>0</td>\n",
       "      <td>0</td>\n",
       "      <td>250.0</td>\n",
       "      <td>121.0</td>\n",
       "      <td>81.0</td>\n",
       "      <td>28.73</td>\n",
       "      <td>95.0</td>\n",
       "      <td>76.0</td>\n",
       "      <td>0</td>\n",
       "    </tr>\n",
       "    <tr>\n",
       "      <th>2</th>\n",
       "      <td>1</td>\n",
       "      <td>48</td>\n",
       "      <td>1</td>\n",
       "      <td>20.0</td>\n",
       "      <td>0.0</td>\n",
       "      <td>0</td>\n",
       "      <td>0</td>\n",
       "      <td>0</td>\n",
       "      <td>245.0</td>\n",
       "      <td>127.5</td>\n",
       "      <td>80.0</td>\n",
       "      <td>25.34</td>\n",
       "      <td>75.0</td>\n",
       "      <td>70.0</td>\n",
       "      <td>0</td>\n",
       "    </tr>\n",
       "    <tr>\n",
       "      <th>3</th>\n",
       "      <td>0</td>\n",
       "      <td>61</td>\n",
       "      <td>1</td>\n",
       "      <td>30.0</td>\n",
       "      <td>0.0</td>\n",
       "      <td>0</td>\n",
       "      <td>1</td>\n",
       "      <td>0</td>\n",
       "      <td>225.0</td>\n",
       "      <td>150.0</td>\n",
       "      <td>95.0</td>\n",
       "      <td>28.58</td>\n",
       "      <td>65.0</td>\n",
       "      <td>103.0</td>\n",
       "      <td>1</td>\n",
       "    </tr>\n",
       "    <tr>\n",
       "      <th>4</th>\n",
       "      <td>0</td>\n",
       "      <td>46</td>\n",
       "      <td>1</td>\n",
       "      <td>23.0</td>\n",
       "      <td>0.0</td>\n",
       "      <td>0</td>\n",
       "      <td>0</td>\n",
       "      <td>0</td>\n",
       "      <td>285.0</td>\n",
       "      <td>130.0</td>\n",
       "      <td>84.0</td>\n",
       "      <td>23.10</td>\n",
       "      <td>85.0</td>\n",
       "      <td>85.0</td>\n",
       "      <td>0</td>\n",
       "    </tr>\n",
       "  </tbody>\n",
       "</table>\n",
       "</div>"
      ],
      "text/plain": [
       "   male  age  currentSmoker  cigsPerDay  BPMeds  prevalentStroke  \\\n",
       "0     1   39              0         0.0     0.0                0   \n",
       "1     0   46              0         0.0     0.0                0   \n",
       "2     1   48              1        20.0     0.0                0   \n",
       "3     0   61              1        30.0     0.0                0   \n",
       "4     0   46              1        23.0     0.0                0   \n",
       "\n",
       "   prevalentHyp  diabetes  totChol  sysBP  diaBP    BMI  heartRate  glucose  \\\n",
       "0             0         0    195.0  106.0   70.0  26.97       80.0     77.0   \n",
       "1             0         0    250.0  121.0   81.0  28.73       95.0     76.0   \n",
       "2             0         0    245.0  127.5   80.0  25.34       75.0     70.0   \n",
       "3             1         0    225.0  150.0   95.0  28.58       65.0    103.0   \n",
       "4             0         0    285.0  130.0   84.0  23.10       85.0     85.0   \n",
       "\n",
       "   TenYearCHD  \n",
       "0           0  \n",
       "1           0  \n",
       "2           0  \n",
       "3           1  \n",
       "4           0  "
      ]
     },
     "execution_count": 11,
     "metadata": {},
     "output_type": "execute_result"
    }
   ],
   "source": [
    "heart_data.drop(\"education\", axis=1, inplace=True)\n",
    "heart_data.head()"
   ]
  },
  {
   "cell_type": "code",
   "execution_count": 12,
   "metadata": {
    "colab": {
     "base_uri": "https://localhost:8080/",
     "height": 34
    },
    "colab_type": "code",
    "executionInfo": {
     "elapsed": 4003,
     "status": "ok",
     "timestamp": 1573719481151,
     "user": {
      "displayName": "Montu Saw",
      "photoUrl": "https://lh3.googleusercontent.com/a-/AAuE7mBRGBpww95BA8TSCucShu8nuVXOPOPqOy6-XE3K=s64",
      "userId": "04051579652075114519"
     },
     "user_tz": -330
    },
    "id": "RkDplF-8vupk",
    "outputId": "c951020f-78a5-40b1-909b-1ac9d0a509ca"
   },
   "outputs": [
    {
     "name": "stdout",
     "output_type": "stream",
     "text": [
      "81.96675324675324\n"
     ]
    }
   ],
   "source": [
    "m=np.mean(heart_data[\"glucose\"])\n",
    "print(m)"
   ]
  },
  {
   "cell_type": "markdown",
   "metadata": {
    "colab_type": "text",
    "id": "89Tx6XN2Cps2"
   },
   "source": [
    "# **6. Replacing the Null Values**"
   ]
  },
  {
   "cell_type": "code",
   "execution_count": 13,
   "metadata": {
    "colab": {},
    "colab_type": "code",
    "id": "bv-xSVrOw_bU"
   },
   "outputs": [],
   "source": [
    "heart_data[\"glucose\"].replace(to_replace = np.nan, value = m, inplace=True)\n",
    "heart_data[\"BMI\"].replace(to_replace = np.nan, value = 25, inplace=True)\n",
    "heart_data[\"cigsPerDay\"].replace(to_replace = np.nan, value = 5, inplace=True)\n",
    "heart_data[\"heartRate\"].replace(to_replace = np.nan, value = 90, inplace=True)\n",
    "heart_data.drop(\"currentSmoker\", axis=1, inplace=True)"
   ]
  },
  {
   "cell_type": "code",
   "execution_count": 14,
   "metadata": {
    "colab": {
     "base_uri": "https://localhost:8080/",
     "height": 282
    },
    "colab_type": "code",
    "executionInfo": {
     "elapsed": 5110,
     "status": "ok",
     "timestamp": 1573719482274,
     "user": {
      "displayName": "Montu Saw",
      "photoUrl": "https://lh3.googleusercontent.com/a-/AAuE7mBRGBpww95BA8TSCucShu8nuVXOPOPqOy6-XE3K=s64",
      "userId": "04051579652075114519"
     },
     "user_tz": -330
    },
    "id": "rtZIlWVH0eHr",
    "outputId": "a08e5395-e2a4-486d-a138-d6a309a07beb"
   },
   "outputs": [
    {
     "data": {
      "text/plain": [
       "<AxesSubplot:ylabel='Frequency'>"
      ]
     },
     "execution_count": 14,
     "metadata": {},
     "output_type": "execute_result"
    },
    {
     "data": {
      "image/png": "[encoded data removed]",
      "text/plain": [
       "<Figure size 432x288 with 1 Axes>"
      ]
     },
     "metadata": {
      "needs_background": "light"
     },
     "output_type": "display_data"
    }
   ],
   "source": [
    "heart_data[\"glucose\"].plot.hist()"
   ]
  },
  {
   "cell_type": "code",
   "execution_count": 15,
   "metadata": {
    "colab": {
     "base_uri": "https://localhost:8080/",
     "height": 343
    },
    "colab_type": "code",
    "executionInfo": {
     "elapsed": 5102,
     "status": "ok",
     "timestamp": 1573719482275,
     "user": {
      "displayName": "Montu Saw",
      "photoUrl": "https://lh3.googleusercontent.com/a-/AAuE7mBRGBpww95BA8TSCucShu8nuVXOPOPqOy6-XE3K=s64",
      "userId": "04051579652075114519"
     },
     "user_tz": -330
    },
    "id": "fxxiIqeKysQ0",
    "outputId": "99c2fba3-5659-4e6d-81c8-89917176081a"
   },
   "outputs": [
    {
     "data": {
      "text/html": [
       "<div>\n",
       "<style scoped>\n",
       "    .dataframe tbody tr th:only-of-type {\n",
       "        vertical-align: middle;\n",
       "    }\n",
       "\n",
       "    .dataframe tbody tr th {\n",
       "        vertical-align: top;\n",
       "    }\n",
       "\n",
       "    .dataframe thead th {\n",
       "        text-align: right;\n",
       "    }\n",
       "</style>\n",
       "<table border=\"1\" class=\"dataframe\">\n",
       "  <thead>\n",
       "    <tr style=\"text-align: right;\">\n",
       "      <th></th>\n",
       "      <th>male</th>\n",
       "      <th>age</th>\n",
       "      <th>cigsPerDay</th>\n",
       "      <th>BPMeds</th>\n",
       "      <th>prevalentStroke</th>\n",
       "      <th>prevalentHyp</th>\n",
       "      <th>diabetes</th>\n",
       "      <th>totChol</th>\n",
       "      <th>sysBP</th>\n",
       "      <th>diaBP</th>\n",
       "      <th>BMI</th>\n",
       "      <th>heartRate</th>\n",
       "      <th>glucose</th>\n",
       "      <th>TenYearCHD</th>\n",
       "    </tr>\n",
       "  </thead>\n",
       "  <tbody>\n",
       "    <tr>\n",
       "      <th>0</th>\n",
       "      <td>1</td>\n",
       "      <td>39</td>\n",
       "      <td>0.0</td>\n",
       "      <td>0.0</td>\n",
       "      <td>0</td>\n",
       "      <td>0</td>\n",
       "      <td>0</td>\n",
       "      <td>195.0</td>\n",
       "      <td>106.0</td>\n",
       "      <td>70.0</td>\n",
       "      <td>26.97</td>\n",
       "      <td>80.0</td>\n",
       "      <td>77.0</td>\n",
       "      <td>0</td>\n",
       "    </tr>\n",
       "    <tr>\n",
       "      <th>1</th>\n",
       "      <td>0</td>\n",
       "      <td>46</td>\n",
       "      <td>0.0</td>\n",
       "      <td>0.0</td>\n",
       "      <td>0</td>\n",
       "      <td>0</td>\n",
       "      <td>0</td>\n",
       "      <td>250.0</td>\n",
       "      <td>121.0</td>\n",
       "      <td>81.0</td>\n",
       "      <td>28.73</td>\n",
       "      <td>95.0</td>\n",
       "      <td>76.0</td>\n",
       "      <td>0</td>\n",
       "    </tr>\n",
       "    <tr>\n",
       "      <th>2</th>\n",
       "      <td>1</td>\n",
       "      <td>48</td>\n",
       "      <td>20.0</td>\n",
       "      <td>0.0</td>\n",
       "      <td>0</td>\n",
       "      <td>0</td>\n",
       "      <td>0</td>\n",
       "      <td>245.0</td>\n",
       "      <td>127.5</td>\n",
       "      <td>80.0</td>\n",
       "      <td>25.34</td>\n",
       "      <td>75.0</td>\n",
       "      <td>70.0</td>\n",
       "      <td>0</td>\n",
       "    </tr>\n",
       "    <tr>\n",
       "      <th>3</th>\n",
       "      <td>0</td>\n",
       "      <td>61</td>\n",
       "      <td>30.0</td>\n",
       "      <td>0.0</td>\n",
       "      <td>0</td>\n",
       "      <td>1</td>\n",
       "      <td>0</td>\n",
       "      <td>225.0</td>\n",
       "      <td>150.0</td>\n",
       "      <td>95.0</td>\n",
       "      <td>28.58</td>\n",
       "      <td>65.0</td>\n",
       "      <td>103.0</td>\n",
       "      <td>1</td>\n",
       "    </tr>\n",
       "    <tr>\n",
       "      <th>4</th>\n",
       "      <td>0</td>\n",
       "      <td>46</td>\n",
       "      <td>23.0</td>\n",
       "      <td>0.0</td>\n",
       "      <td>0</td>\n",
       "      <td>0</td>\n",
       "      <td>0</td>\n",
       "      <td>285.0</td>\n",
       "      <td>130.0</td>\n",
       "      <td>84.0</td>\n",
       "      <td>23.10</td>\n",
       "      <td>85.0</td>\n",
       "      <td>85.0</td>\n",
       "      <td>0</td>\n",
       "    </tr>\n",
       "    <tr>\n",
       "      <th>5</th>\n",
       "      <td>0</td>\n",
       "      <td>43</td>\n",
       "      <td>0.0</td>\n",
       "      <td>0.0</td>\n",
       "      <td>0</td>\n",
       "      <td>1</td>\n",
       "      <td>0</td>\n",
       "      <td>228.0</td>\n",
       "      <td>180.0</td>\n",
       "      <td>110.0</td>\n",
       "      <td>30.30</td>\n",
       "      <td>77.0</td>\n",
       "      <td>99.0</td>\n",
       "      <td>0</td>\n",
       "    </tr>\n",
       "    <tr>\n",
       "      <th>6</th>\n",
       "      <td>0</td>\n",
       "      <td>63</td>\n",
       "      <td>0.0</td>\n",
       "      <td>0.0</td>\n",
       "      <td>0</td>\n",
       "      <td>0</td>\n",
       "      <td>0</td>\n",
       "      <td>205.0</td>\n",
       "      <td>138.0</td>\n",
       "      <td>71.0</td>\n",
       "      <td>33.11</td>\n",
       "      <td>60.0</td>\n",
       "      <td>85.0</td>\n",
       "      <td>1</td>\n",
       "    </tr>\n",
       "    <tr>\n",
       "      <th>7</th>\n",
       "      <td>0</td>\n",
       "      <td>45</td>\n",
       "      <td>20.0</td>\n",
       "      <td>0.0</td>\n",
       "      <td>0</td>\n",
       "      <td>0</td>\n",
       "      <td>0</td>\n",
       "      <td>313.0</td>\n",
       "      <td>100.0</td>\n",
       "      <td>71.0</td>\n",
       "      <td>21.68</td>\n",
       "      <td>79.0</td>\n",
       "      <td>78.0</td>\n",
       "      <td>0</td>\n",
       "    </tr>\n",
       "    <tr>\n",
       "      <th>8</th>\n",
       "      <td>1</td>\n",
       "      <td>52</td>\n",
       "      <td>0.0</td>\n",
       "      <td>0.0</td>\n",
       "      <td>0</td>\n",
       "      <td>1</td>\n",
       "      <td>0</td>\n",
       "      <td>260.0</td>\n",
       "      <td>141.5</td>\n",
       "      <td>89.0</td>\n",
       "      <td>26.36</td>\n",
       "      <td>76.0</td>\n",
       "      <td>79.0</td>\n",
       "      <td>0</td>\n",
       "    </tr>\n",
       "    <tr>\n",
       "      <th>9</th>\n",
       "      <td>1</td>\n",
       "      <td>43</td>\n",
       "      <td>30.0</td>\n",
       "      <td>0.0</td>\n",
       "      <td>0</td>\n",
       "      <td>1</td>\n",
       "      <td>0</td>\n",
       "      <td>225.0</td>\n",
       "      <td>162.0</td>\n",
       "      <td>107.0</td>\n",
       "      <td>23.61</td>\n",
       "      <td>93.0</td>\n",
       "      <td>88.0</td>\n",
       "      <td>0</td>\n",
       "    </tr>\n",
       "  </tbody>\n",
       "</table>\n",
       "</div>"
      ],
      "text/plain": [
       "   male  age  cigsPerDay  BPMeds  prevalentStroke  prevalentHyp  diabetes  \\\n",
       "0     1   39         0.0     0.0                0             0         0   \n",
       "1     0   46         0.0     0.0                0             0         0   \n",
       "2     1   48        20.0     0.0                0             0         0   \n",
       "3     0   61        30.0     0.0                0             1         0   \n",
       "4     0   46        23.0     0.0                0             0         0   \n",
       "5     0   43         0.0     0.0                0             1         0   \n",
       "6     0   63         0.0     0.0                0             0         0   \n",
       "7     0   45        20.0     0.0                0             0         0   \n",
       "8     1   52         0.0     0.0                0             1         0   \n",
       "9     1   43        30.0     0.0                0             1         0   \n",
       "\n",
       "   totChol  sysBP  diaBP    BMI  heartRate  glucose  TenYearCHD  \n",
       "0    195.0  106.0   70.0  26.97       80.0     77.0           0  \n",
       "1    250.0  121.0   81.0  28.73       95.0     76.0           0  \n",
       "2    245.0  127.5   80.0  25.34       75.0     70.0           0  \n",
       "3    225.0  150.0   95.0  28.58       65.0    103.0           1  \n",
       "4    285.0  130.0   84.0  23.10       85.0     85.0           0  \n",
       "5    228.0  180.0  110.0  30.30       77.0     99.0           0  \n",
       "6    205.0  138.0   71.0  33.11       60.0     85.0           1  \n",
       "7    313.0  100.0   71.0  21.68       79.0     78.0           0  \n",
       "8    260.0  141.5   89.0  26.36       76.0     79.0           0  \n",
       "9    225.0  162.0  107.0  23.61       93.0     88.0           0  "
      ]
     },
     "execution_count": 15,
     "metadata": {},
     "output_type": "execute_result"
    }
   ],
   "source": [
    "heart_data.head(10)"
   ]
  },
  {
   "cell_type": "code",
   "execution_count": 16,
   "metadata": {
    "colab": {
     "base_uri": "https://localhost:8080/",
     "height": 356
    },
    "colab_type": "code",
    "executionInfo": {
     "elapsed": 5093,
     "status": "ok",
     "timestamp": 1573719482276,
     "user": {
      "displayName": "Montu Saw",
      "photoUrl": "https://lh3.googleusercontent.com/a-/AAuE7mBRGBpww95BA8TSCucShu8nuVXOPOPqOy6-XE3K=s64",
      "userId": "04051579652075114519"
     },
     "user_tz": -330
    },
    "id": "SDhYfxh-zFBC",
    "outputId": "b04eed23-90cb-449a-e10c-6d3d735b8cb8"
   },
   "outputs": [
    {
     "data": {
      "text/plain": [
       "<AxesSubplot:>"
      ]
     },
     "execution_count": 16,
     "metadata": {},
     "output_type": "execute_result"
    },
    {
     "data": {
      "image/png": "[encoded data removed]",
      "text/plain": [
       "<Figure size 432x288 with 2 Axes>"
      ]
     },
     "metadata": {
      "needs_background": "light"
     },
     "output_type": "display_data"
    }
   ],
   "source": [
    "sns.heatmap(heart_data.isnull(), yticklabels=False, cmap=\"viridis\")"
   ]
  },
  {
   "cell_type": "code",
   "execution_count": 17,
   "metadata": {
    "colab": {},
    "colab_type": "code",
    "id": "UdqzPCCUzy-G"
   },
   "outputs": [],
   "source": [
    "heart_data[\"totChol\"].replace(to_replace = np.nan, value = 247.0, inplace=True)\n",
    "heart_data.drop(\"BPMeds\", axis=1, inplace=True)"
   ]
  },
  {
   "cell_type": "code",
   "execution_count": 18,
   "metadata": {
    "colab": {
     "base_uri": "https://localhost:8080/",
     "height": 352
    },
    "colab_type": "code",
    "executionInfo": {
     "elapsed": 5082,
     "status": "ok",
     "timestamp": 1573719482278,
     "user": {
      "displayName": "Montu Saw",
      "photoUrl": "https://lh3.googleusercontent.com/a-/AAuE7mBRGBpww95BA8TSCucShu8nuVXOPOPqOy6-XE3K=s64",
      "userId": "04051579652075114519"
     },
     "user_tz": -330
    },
    "id": "B1PGvxCr2J8G",
    "outputId": "b35c1abc-1c7f-4193-8dd3-79b32e0709f6"
   },
   "outputs": [
    {
     "data": {
      "text/plain": [
       "<AxesSubplot:>"
      ]
     },
     "execution_count": 18,
     "metadata": {},
     "output_type": "execute_result"
    },
    {
     "data": {
      "image/png": "[encoded data removed]",
      "text/plain": [
       "<Figure size 432x288 with 2 Axes>"
      ]
     },
     "metadata": {
      "needs_background": "light"
     },
     "output_type": "display_data"
    }
   ],
   "source": [
    "sns.heatmap(heart_data.isnull(), yticklabels=False, cmap=\"viridis\")\n"
   ]
  },
  {
   "cell_type": "code",
   "execution_count": 19,
   "metadata": {
    "colab": {
     "base_uri": "https://localhost:8080/",
     "height": 252
    },
    "colab_type": "code",
    "executionInfo": {
     "elapsed": 5076,
     "status": "ok",
     "timestamp": 1573719482279,
     "user": {
      "displayName": "Montu Saw",
      "photoUrl": "https://lh3.googleusercontent.com/a-/AAuE7mBRGBpww95BA8TSCucShu8nuVXOPOPqOy6-XE3K=s64",
      "userId": "04051579652075114519"
     },
     "user_tz": -330
    },
    "id": "2jzFxhpB9qsB",
    "outputId": "e46093eb-ed87-4f23-af58-916d9bc10c77"
   },
   "outputs": [
    {
     "data": {
      "text/plain": [
       "male               0\n",
       "age                0\n",
       "cigsPerDay         0\n",
       "prevalentStroke    0\n",
       "prevalentHyp       0\n",
       "diabetes           0\n",
       "totChol            0\n",
       "sysBP              0\n",
       "diaBP              0\n",
       "BMI                0\n",
       "heartRate          0\n",
       "glucose            0\n",
       "TenYearCHD         0\n",
       "dtype: int64"
      ]
     },
     "execution_count": 19,
     "metadata": {},
     "output_type": "execute_result"
    }
   ],
   "source": [
    "heart_data.isnull().sum()"
   ]
  },
  {
   "cell_type": "code",
   "execution_count": 20,
   "metadata": {
    "colab": {
     "base_uri": "https://localhost:8080/",
     "height": 296
    },
    "colab_type": "code",
    "executionInfo": {
     "elapsed": 5612,
     "status": "ok",
     "timestamp": 1573719482826,
     "user": {
      "displayName": "Montu Saw",
      "photoUrl": "https://lh3.googleusercontent.com/a-/AAuE7mBRGBpww95BA8TSCucShu8nuVXOPOPqOy6-XE3K=s64",
      "userId": "04051579652075114519"
     },
     "user_tz": -330
    },
    "id": "upFpdxcX2c1Q",
    "outputId": "e2d9629b-8f28-4f52-d2de-2397cbe3f8ad"
   },
   "outputs": [
    {
     "data": {
      "text/plain": [
       "<AxesSubplot:xlabel='TenYearCHD', ylabel='count'>"
      ]
     },
     "execution_count": 20,
     "metadata": {},
     "output_type": "execute_result"
    },
    {
     "data": {
      "image/png": "[encoded data removed]",
      "text/plain": [
       "<Figure size 432x288 with 1 Axes>"
      ]
     },
     "metadata": {
      "needs_background": "light"
     },
     "output_type": "display_data"
    }
   ],
   "source": [
    "sns.countplot(x=\"TenYearCHD\", data=heart_data)"
   ]
  },
  {
   "cell_type": "code",
   "execution_count": 21,
   "metadata": {
    "colab": {
     "base_uri": "https://localhost:8080/",
     "height": 34
    },
    "colab_type": "code",
    "executionInfo": {
     "elapsed": 5606,
     "status": "ok",
     "timestamp": 1573719482827,
     "user": {
      "displayName": "Montu Saw",
      "photoUrl": "https://lh3.googleusercontent.com/a-/AAuE7mBRGBpww95BA8TSCucShu8nuVXOPOPqOy6-XE3K=s64",
      "userId": "04051579652075114519"
     },
     "user_tz": -330
    },
    "id": "Rd6vBdka5KdE",
    "outputId": "7e1bd9f2-7f42-4c3d-b88d-a8e6757c6d36"
   },
   "outputs": [
    {
     "data": {
      "text/plain": [
       "array([0, 0, 0, ..., 0, 0, 0], dtype=int64)"
      ]
     },
     "execution_count": 21,
     "metadata": {},
     "output_type": "execute_result"
    }
   ],
   "source": [
    "X=heart_data.drop(\"TenYearCHD\",axis=1)\n",
    "y=heart_data[\"TenYearCHD\"].values\n",
    "y"
   ]
  },
  {
   "cell_type": "markdown",
   "metadata": {
    "colab_type": "text",
    "id": "4AWVIkoZDSmD"
   },
   "source": [
    "# **7. Train and Test**"
   ]
  },
  {
   "cell_type": "code",
   "execution_count": 22,
   "metadata": {
    "colab": {
     "base_uri": "https://localhost:8080/",
     "height": 87
    },
    "colab_type": "code",
    "executionInfo": {
     "elapsed": 1438,
     "status": "ok",
     "timestamp": 1573722262363,
     "user": {
      "displayName": "Montu Saw",
      "photoUrl": "https://lh3.googleusercontent.com/a-/AAuE7mBRGBpww95BA8TSCucShu8nuVXOPOPqOy6-XE3K=s64",
      "userId": "04051579652075114519"
     },
     "user_tz": -330
    },
    "id": "w_T64Ttf6OMu",
    "outputId": "13f97532-c844-4467-c8dd-e5aba7a340b6"
   },
   "outputs": [
    {
     "name": "stdout",
     "output_type": "stream",
     "text": [
      "(150, 4)\n"
     ]
    }
   ],
   "source": [
    "from sklearn.model_selection import train_test_split\n",
    "X_train, X_test, y_train, y_test= train_test_split(X,y,test_size=0.2,random_state=15)\n",
    "from sklearn.linear_model import LogisticRegression\n",
    "LogisticRegression()\n",
    "clf = LogisticRegression(C=0.01, penalty='l1',solver='liblinear',max_iter=300).fit(X_train,y_train)\n",
    "y_pred = clf.predict(X_test)\n",
    "from sklearn.metrics import confusion_matrix\n",
    "confusion_matrix(y_test,y_pred)\n",
    "from sklearn.metrics import accuracy_score\n",
    "accuracy=accuracy_score(y_test,y_pred)\n",
    "accuracy\n",
    "from sklearn.metrics import accuracy_score,recall_score,precision_score,f1_score\n",
    "#Normalize the data attributes for the Iris dataset.\n",
    "from sklearn.datasets import load_iris\n",
    "from sklearn import preprocessing\n",
    "# load the iris dataset\n",
    "iris = load_iris()\n",
    "print(iris.data.shape)\n",
    "# separate the data from the target attributes\n",
    "X = iris.data\n",
    "y = iris.target\n",
    "# normalize the data attributes\n",
    "normalized_X = preprocessing.normalize(X)"
   ]
  },
  {
   "cell_type": "code",
   "execution_count": 23,
   "metadata": {
    "colab": {
     "base_uri": "https://localhost:8080/",
     "height": 134
    },
    "colab_type": "code",
    "executionInfo": {
     "elapsed": 5590,
     "status": "ok",
     "timestamp": 1573719482830,
     "user": {
      "displayName": "Montu Saw",
      "photoUrl": "https://lh3.googleusercontent.com/a-/AAuE7mBRGBpww95BA8TSCucShu8nuVXOPOPqOy6-XE3K=s64",
      "userId": "04051579652075114519"
     },
     "user_tz": -330
    },
    "id": "t8Rmcxv-oCQm",
    "outputId": "e6417f4f-a5c4-490b-f031-2ca45f566931"
   },
   "outputs": [
    {
     "name": "stdout",
     "output_type": "stream",
     "text": [
      "Accuracy Score : 0.8466981132075472\n",
      "Precision Score : 0.5\n",
      "Recall Score : 0.007692307692307693\n",
      "F1 Score : 0.015151515151515154\n",
      "Confusion Matrix : \n",
      "[[717   1]\n",
      " [129   1]]\n"
     ]
    }
   ],
   "source": [
    "print('Accuracy Score : ' + str(accuracy_score(y_test,y_pred)))\n",
    "print('Precision Score : ' + str(precision_score(y_test,y_pred)))\n",
    "print('Recall Score : ' + str(recall_score(y_test,y_pred)))\n",
    "print('F1 Score : ' + str(f1_score(y_test,y_pred)))\n",
    "from sklearn.metrics import confusion_matrix\n",
    "print('Confusion Matrix : \\n' + str(confusion_matrix(y_test,y_pred)))"
   ]
  },
  {
   "cell_type": "code",
   "execution_count": 24,
   "metadata": {
    "colab": {
     "base_uri": "https://localhost:8080/",
     "height": 1000
    },
    "colab_type": "code",
    "executionInfo": {
     "elapsed": 5171,
     "status": "ok",
     "timestamp": 1573722275822,
     "user": {
      "displayName": "Montu Saw",
      "photoUrl": "https://lh3.googleusercontent.com/a-/AAuE7mBRGBpww95BA8TSCucShu8nuVXOPOPqOy6-XE3K=s64",
      "userId": "04051579652075114519"
     },
     "user_tz": -330
    },
    "id": "Iw2Bg59zFqKX",
    "outputId": "16afc6ae-3395-439c-8cf1-1fc4b98cefd7"
   },
   "outputs": [],
   "source": [
    "from sklearn.model_selection import GridSearchCV\n",
    "clf = LogisticRegression(C=0.01, penalty='l1',solver='liblinear',max_iter=300)\n",
    "grid_values = {'penalty': ['l1', 'l2'],'C':[0.552,.019,0.11,.19,9,15,10,35,25,40]}\n",
    "grid_clf_acc = GridSearchCV(clf, param_grid = grid_values,scoring = 'accuracy')\n",
    "grid_clf_acc.fit(X_train, y_train)\n",
    "\n",
    "#Predict values based on new parameters\n",
    "y_pred = grid_clf_acc.predict(X_test)"
   ]
  },
  {
   "cell_type": "markdown",
   "metadata": {
    "colab_type": "text",
    "id": "dXfjm0TkDf7r"
   },
   "source": [
    "# **8.Accuracy Score**"
   ]
  },
  {
   "cell_type": "code",
   "execution_count": 25,
   "metadata": {
    "colab": {
     "base_uri": "https://localhost:8080/",
     "height": 34
    },
    "colab_type": "code",
    "executionInfo": {
     "elapsed": 1631,
     "status": "ok",
     "timestamp": 1573722279845,
     "user": {
      "displayName": "Montu Saw",
      "photoUrl": "https://lh3.googleusercontent.com/a-/AAuE7mBRGBpww95BA8TSCucShu8nuVXOPOPqOy6-XE3K=s64",
      "userId": "04051579652075114519"
     },
     "user_tz": -330
    },
    "id": "kjiRzEmBkOng",
    "outputId": "fac15e39-3874-41b0-b5d5-9fb3fb39fc51"
   },
   "outputs": [
    {
     "data": {
      "text/plain": [
       "0.8525943396226415"
      ]
     },
     "execution_count": 25,
     "metadata": {},
     "output_type": "execute_result"
    }
   ],
   "source": [
    "accuracy=accuracy_score(y_test,y_pred)\n",
    "accuracy"
   ]
  },
  {
   "cell_type": "code",
   "execution_count": 26,
   "metadata": {},
   "outputs": [
    {
     "name": "stdout",
     "output_type": "stream",
     "text": [
      "[0]\n",
      "The Person does not have a Heart Disease\n"
     ]
    },
    {
     "name": "stderr",
     "output_type": "stream",
     "text": [
      "c:\\users\\rosha\\appdata\\local\\programs\\python\\python38\\lib\\site-packages\\sklearn\\base.py:450: UserWarning: X does not have valid feature names, but LogisticRegression was fitted with feature names\n",
      "  warnings.warn(\n"
     ]
    }
   ],
   "source": [
    "input_data = (0,61,0,0,1,0,225,150,28.58,65,103,1)\n",
    "\n",
    "\n",
    "# change the input data to a numpy array\n",
    "input_data_as_numpy_array= np.asarray(input_data)\n",
    "\n",
    "# reshape the numpy array as we are predicting for only on instance\n",
    "input_data_reshaped = input_data_as_numpy_array.reshape(1,-1)\n",
    "\n",
    "clf=LogisticRegression(C=0.01, penalty='l1',solver='liblinear',max_iter=300).fit(X_train,y_train)\n",
    "prediction = clf.predict(input_data_reshaped)\n",
    "print(prediction)\n",
    "\n",
    "if (prediction[0]== 0):\n",
    "  print('The Person does not have a Heart Disease')\n",
    "else:\n",
    "  print('The Person has Heart Disease')"
   ]
  }
 ],
 "metadata": {
  "accelerator": "GPU",
  "colab": {
   "collapsed_sections": [],
   "name": "ITW.ipynb",
   "provenance": []
  },
  "kernelspec": {
   "display_name": "Python 3 (ipykernel)",
   "language": "python",
   "name": "python3"
  },
  "language_info": {
   "codemirror_mode": {
    "name": "ipython",
    "version": 3
   },
   "file_extension": ".py",
   "mimetype": "text/x-python",
   "name": "python",
   "nbconvert_exporter": "python",
   "pygments_lexer": "ipython3",
   "version": "3.8.10"
  }
 },
 "nbformat": 4,
 "nbformat_minor": 4
}
